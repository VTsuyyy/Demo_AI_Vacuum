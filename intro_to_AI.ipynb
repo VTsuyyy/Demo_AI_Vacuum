{
 "cells": [
  {
   "cell_type": "code",
   "execution_count": null,
   "id": "0a19f3ed-183a-45d7-9109-49ced6374f5c",
   "metadata": {},
   "outputs": [],
   "source": [
    "# Chạy hàm main để hiển thị giao diện"
   ]
  },
  {
   "cell_type": "code",
   "execution_count": null,
   "id": "a41e8124-b599-402d-b188-69234e82fd8c",
   "metadata": {},
   "outputs": [],
   "source": [
    "from main import *\n",
    "\n",
    "run_application()"
   ]
  },
  {
   "cell_type": "code",
   "execution_count": null,
   "id": "6508a776-e0e0-434a-a5ca-00d93f3a1991",
   "metadata": {},
   "outputs": [],
   "source": []
  },
  {
   "cell_type": "code",
   "execution_count": null,
   "id": "6f5eddd3-8224-421c-a7f3-febde6d41298",
   "metadata": {},
   "outputs": [],
   "source": [
    "# Chạy thử robot lau nhà với thuật toán A"
   ]
  },
  {
   "cell_type": "code",
   "execution_count": null,
   "id": "a71b36d7-e614-48b5-935a-8e5f64e5cdc3",
   "metadata": {},
   "outputs": [],
   "source": []
  },
  {
   "cell_type": "code",
   "execution_count": null,
   "id": "c06c8f16-4848-46a8-90a9-2528a947fbb5",
   "metadata": {},
   "outputs": [],
   "source": [
    "from IPython.display import Image\n",
    "Image(filename=\"image\\\\wall.jpg\", width=400,height=400)"
   ]
  },
  {
   "cell_type": "code",
   "execution_count": null,
   "id": "ebf9f4c6-26d7-4b2f-acce-3927ef5322ab",
   "metadata": {},
   "outputs": [],
   "source": []
  },
  {
   "cell_type": "code",
   "execution_count": null,
   "id": "18a50595-c4b2-437d-9a20-51e11439a67a",
   "metadata": {},
   "outputs": [],
   "source": []
  },
  {
   "cell_type": "code",
   "execution_count": null,
   "id": "fdcef10c-7cc9-4c2a-b1fa-d2b5a61ce95d",
   "metadata": {},
   "outputs": [],
   "source": []
  }
 ],
 "metadata": {
  "kernelspec": {
   "display_name": "Python 3 (ipykernel)",
   "language": "python",
   "name": "python3"
  },
  "language_info": {
   "codemirror_mode": {
    "name": "ipython",
    "version": 3
   },
   "file_extension": ".py",
   "mimetype": "text/x-python",
   "name": "python",
   "nbconvert_exporter": "python",
   "pygments_lexer": "ipython3",
   "version": "3.12.1"
  }
 },
 "nbformat": 4,
 "nbformat_minor": 5
}
